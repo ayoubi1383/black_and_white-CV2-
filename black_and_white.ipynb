{
 "cells": [
  {
   "cell_type": "code",
   "execution_count": null,
   "id": "78180ae7",
   "metadata": {},
   "outputs": [],
   "source": [
    "# pip install opencv-python\n",
    "\n",
    "import cv2\n",
    "image = cv2.imread(\"image.jpg\")\n",
    "gray_image = cv2.cvtColor(image, cv2.COLOR_BGR2GRAY)\n",
    "inverted = 255-gray_image\n",
    "blur = cv2.GaussianBlur(inverted, (21, 21), 0)\n",
    "invertedblur = 255-blur\n",
    "sketch = cv2.divide(gray_image, invertedblur, scale=256.0)\n",
    "cv2.imwrite(\"new_image.png\", sketch)\n",
    "cv2.imshow(\"Image\", sketch)"
   ]
  }
 ],
 "metadata": {
  "kernelspec": {
   "display_name": "Python 3",
   "language": "python",
   "name": "python3"
  },
  "language_info": {
   "codemirror_mode": {
    "name": "ipython",
    "version": 3
   },
   "file_extension": ".py",
   "mimetype": "text/x-python",
   "name": "python",
   "nbconvert_exporter": "python",
   "pygments_lexer": "ipython3",
   "version": "3.13.0"
  }
 },
 "nbformat": 4,
 "nbformat_minor": 5
}
